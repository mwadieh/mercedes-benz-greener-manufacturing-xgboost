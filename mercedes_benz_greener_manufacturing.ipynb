{
 "cells": [
  {
   "cell_type": "markdown",
   "id": "stuck-infection",
   "metadata": {},
   "source": [
    "### Import libraries"
   ]
  },
  {
   "cell_type": "code",
   "execution_count": 1,
   "id": "radio-makeup",
   "metadata": {},
   "outputs": [],
   "source": [
    "import pandas as pd\n",
    "import numpy as np\n",
    "import matplotlib.pyplot as plt\n",
    "%matplotlib inline\n",
    "\n",
    "from sklearn.preprocessing import LabelEncoder,StandardScaler\n",
    "from sklearn.decomposition import PCA\n",
    "\n",
    "from xgboost import XGBRegressor"
   ]
  },
  {
   "cell_type": "markdown",
   "id": "gothic-looking",
   "metadata": {},
   "source": [
    "### Import Training and Testing datasets"
   ]
  },
  {
   "cell_type": "code",
   "execution_count": 2,
   "id": "invisible-sweden",
   "metadata": {},
   "outputs": [
    {
     "data": {
      "text/plain": [
       "array([dtype('int64'), dtype('float64'), dtype('O')], dtype=object)"
      ]
     },
     "execution_count": 2,
     "metadata": {},
     "output_type": "execute_result"
    }
   ],
   "source": [
    "df_train = pd.read_csv('train.csv')\n",
    "df_test = pd.read_csv('test.csv')\n",
    "df_train.dtypes.unique()"
   ]
  },
  {
   "cell_type": "markdown",
   "id": "sharp-alias",
   "metadata": {},
   "source": [
    "### Removing Columns with Zero Variance"
   ]
  },
  {
   "cell_type": "code",
   "execution_count": 3,
   "id": "determined-surprise",
   "metadata": {},
   "outputs": [],
   "source": [
    "remove_columns = []\n",
    "for column in df_train.columns:\n",
    "    if df_train[column].dtype != 'object':\n",
    "        if df_train[column].var() == 0:\n",
    "            remove_columns.append(column)\n",
    "\n",
    "# rzv stands for removed zero variance\n",
    "df_train_rzv = df_train.drop(remove_columns,axis=1)   \n",
    "df_test_rzv = df_test.drop(remove_columns,axis=1)    "
   ]
  },
  {
   "cell_type": "markdown",
   "id": "collect-burning",
   "metadata": {},
   "source": [
    "### Checking for Null Values for Test and Train Sets"
   ]
  },
  {
   "cell_type": "code",
   "execution_count": 4,
   "id": "twenty-shell",
   "metadata": {},
   "outputs": [
    {
     "name": "stdout",
     "output_type": "stream",
     "text": [
      "0 columns have null values for training data.\n",
      "0 columns have null values for test data.\n"
     ]
    }
   ],
   "source": [
    "# function to check for null values\n",
    "def check_null_values(pandas_df):\n",
    "    column_count = 0\n",
    "    for column in pandas_df.columns:\n",
    "        if pandas_df[column].isnull().any() == True:\n",
    "            print(column)\n",
    "        else:\n",
    "            column_count+1\n",
    "            \n",
    "    return column_count\n",
    "            \n",
    "# check null values for training data\n",
    "print(check_null_values(df_train_rzv),'columns have null values for training data.')\n",
    "\n",
    "# check null values for test data\n",
    "print(check_null_values(df_test_rzv),'columns have null values for test data.')\n",
    "\n",
    "# print(column_count,'columns have null values.')"
   ]
  },
  {
   "cell_type": "markdown",
   "id": "confidential-owner",
   "metadata": {},
   "source": [
    "### Checking for Unique Values for Train and Test Sets"
   ]
  },
  {
   "cell_type": "code",
   "execution_count": 5,
   "id": "enabling-conversion",
   "metadata": {},
   "outputs": [],
   "source": [
    "# function to check for unique values\n",
    "def check_unique_values(pandas_df):\n",
    "    unique_values = []\n",
    "    unique_values_count = []\n",
    "    data_type = []\n",
    "    df_index = []\n",
    "    for column in pandas_df.columns:\n",
    "        unique_values.append(str(pandas_df[column].unique()))\n",
    "        unique_values_count.append(pandas_df[column].nunique())\n",
    "        df_index.append(column)\n",
    "        data_type.append(pandas_df[column].dtype)\n",
    "\n",
    "    df_unique_values = pd.DataFrame(unique_values,index = df_index)\n",
    "    df_unique_values.columns = ['Unique Values']\n",
    "    df_unique_values['Unique Value Count'] = unique_values_count\n",
    "    df_unique_values['Data Type'] = data_type\n",
    "    df_unique_values.sort_values(by = 'Unique Value Count', ascending = False)\n",
    "    \n",
    "    return df_unique_values"
   ]
  },
  {
   "cell_type": "code",
   "execution_count": 6,
   "id": "trained-badge",
   "metadata": {},
   "outputs": [
    {
     "name": "stdout",
     "output_type": "stream",
     "text": [
      "                                        Unique Values  Unique Value Count  \\\n",
      "ID                [   0    6    7 ... 8412 8415 8417]                4209   \n",
      "y     [130.81  88.53  76.26 ...  85.71 108.77  87.48]                2545   \n",
      "X0  ['k' 'az' 't' 'al' 'o' 'w' 'j' 'h' 's' 'n' 'ay...                  47   \n",
      "X1  ['v' 't' 'w' 'b' 'r' 'l' 's' 'aa' 'c' 'a' 'e' ...                  27   \n",
      "X2  ['at' 'av' 'n' 'e' 'as' 'aq' 'r' 'ai' 'ak' 'm'...                  44   \n",
      "X3                      ['a' 'e' 'c' 'f' 'd' 'b' 'g']                   7   \n",
      "X4                                  ['d' 'b' 'c' 'a']                   4   \n",
      "X5  ['u' 'y' 'x' 'h' 'g' 'f' 'j' 'i' 'd' 'c' 'af' ...                  29   \n",
      "X6  ['j' 'l' 'd' 'h' 'i' 'a' 'g' 'c' 'k' 'e' 'f' 'b']                  12   \n",
      "X8  ['o' 'x' 'e' 'n' 's' 'a' 'h' 'p' 'm' 'k' 'd' '...                  25   \n",
      "\n",
      "   Data Type  \n",
      "ID     int64  \n",
      "y    float64  \n",
      "X0    object  \n",
      "X1    object  \n",
      "X2    object  \n",
      "X3    object  \n",
      "X4    object  \n",
      "X5    object  \n",
      "X6    object  \n",
      "X8    object  \n"
     ]
    }
   ],
   "source": [
    "# unique classes of training data\n",
    "df_train_unique_values = check_unique_values(df_train_rzv)\n",
    "print(df_train_unique_values.head(10))"
   ]
  },
  {
   "cell_type": "code",
   "execution_count": 7,
   "id": "romance-military",
   "metadata": {},
   "outputs": [
    {
     "name": "stdout",
     "output_type": "stream",
     "text": [
      "                                         Unique Values  Unique Value Count  \\\n",
      "ID                 [   1    2    3 ... 8413 8414 8416]                4209   \n",
      "X0   ['az' 't' 'w' 'y' 'x' 'f' 'ap' 'o' 'ay' 'al' '...                  49   \n",
      "X1   ['v' 'b' 'l' 's' 'aa' 'r' 'a' 'i' 'p' 'c' 'o' ...                  27   \n",
      "X2   ['n' 'ai' 'as' 'ae' 's' 'b' 'e' 'ak' 'm' 'a' '...                  45   \n",
      "X3                       ['f' 'a' 'c' 'e' 'd' 'g' 'b']                   7   \n",
      "X4                                   ['d' 'b' 'a' 'c']                   4   \n",
      "X5   ['t' 'b' 'a' 'z' 'y' 'x' 'h' 'g' 'f' 'j' 'i' '...                  32   \n",
      "X6   ['a' 'g' 'j' 'l' 'i' 'd' 'f' 'h' 'c' 'k' 'e' 'b']                  12   \n",
      "X8   ['w' 'y' 'j' 'n' 'm' 's' 'a' 'v' 'r' 'o' 't' '...                  25   \n",
      "X10                                              [0 1]                   2   \n",
      "\n",
      "    Data Type  \n",
      "ID      int64  \n",
      "X0     object  \n",
      "X1     object  \n",
      "X2     object  \n",
      "X3     object  \n",
      "X4     object  \n",
      "X5     object  \n",
      "X6     object  \n",
      "X8     object  \n",
      "X10     int64  \n"
     ]
    }
   ],
   "source": [
    "# unique classes of testing data\n",
    "df_test_unique_values = check_unique_values(df_test_rzv)\n",
    "print(df_test_unique_values.head(10))"
   ]
  },
  {
   "cell_type": "code",
   "execution_count": 8,
   "id": "statistical-handy",
   "metadata": {},
   "outputs": [
    {
     "data": {
      "text/html": [
       "<div>\n",
       "<style scoped>\n",
       "    .dataframe tbody tr th:only-of-type {\n",
       "        vertical-align: middle;\n",
       "    }\n",
       "\n",
       "    .dataframe tbody tr th {\n",
       "        vertical-align: top;\n",
       "    }\n",
       "\n",
       "    .dataframe thead th {\n",
       "        text-align: right;\n",
       "    }\n",
       "</style>\n",
       "<table border=\"1\" class=\"dataframe\">\n",
       "  <thead>\n",
       "    <tr style=\"text-align: right;\">\n",
       "      <th></th>\n",
       "      <th>count data_types</th>\n",
       "    </tr>\n",
       "    <tr>\n",
       "      <th>data_types</th>\n",
       "      <th></th>\n",
       "    </tr>\n",
       "  </thead>\n",
       "  <tbody>\n",
       "    <tr>\n",
       "      <th>int64</th>\n",
       "      <td>357</td>\n",
       "    </tr>\n",
       "    <tr>\n",
       "      <th>float64</th>\n",
       "      <td>1</td>\n",
       "    </tr>\n",
       "    <tr>\n",
       "      <th>object</th>\n",
       "      <td>8</td>\n",
       "    </tr>\n",
       "  </tbody>\n",
       "</table>\n",
       "</div>"
      ],
      "text/plain": [
       "            count data_types\n",
       "data_types                  \n",
       "int64                    357\n",
       "float64                    1\n",
       "object                     8"
      ]
     },
     "execution_count": 8,
     "metadata": {},
     "output_type": "execute_result"
    }
   ],
   "source": [
    "df_train_dtypes = pd.DataFrame({'data_types': df_train_rzv.dtypes, 'count data_types': 1})\n",
    "df_train_dtypes.groupby(by = 'data_types').sum()"
   ]
  },
  {
   "cell_type": "code",
   "execution_count": 9,
   "id": "heavy-subdivision",
   "metadata": {},
   "outputs": [
    {
     "data": {
      "text/html": [
       "<div>\n",
       "<style scoped>\n",
       "    .dataframe tbody tr th:only-of-type {\n",
       "        vertical-align: middle;\n",
       "    }\n",
       "\n",
       "    .dataframe tbody tr th {\n",
       "        vertical-align: top;\n",
       "    }\n",
       "\n",
       "    .dataframe thead th {\n",
       "        text-align: right;\n",
       "    }\n",
       "</style>\n",
       "<table border=\"1\" class=\"dataframe\">\n",
       "  <thead>\n",
       "    <tr style=\"text-align: right;\">\n",
       "      <th></th>\n",
       "      <th>Unique Values</th>\n",
       "      <th>Unique Value Count</th>\n",
       "      <th>Data Type</th>\n",
       "    </tr>\n",
       "  </thead>\n",
       "  <tbody>\n",
       "    <tr>\n",
       "      <th>X0</th>\n",
       "      <td>['az' 't' 'w' 'y' 'x' 'f' 'ap' 'o' 'ay' 'al' '...</td>\n",
       "      <td>49</td>\n",
       "      <td>object</td>\n",
       "    </tr>\n",
       "    <tr>\n",
       "      <th>X1</th>\n",
       "      <td>['v' 'b' 'l' 's' 'aa' 'r' 'a' 'i' 'p' 'c' 'o' ...</td>\n",
       "      <td>27</td>\n",
       "      <td>object</td>\n",
       "    </tr>\n",
       "    <tr>\n",
       "      <th>X2</th>\n",
       "      <td>['n' 'ai' 'as' 'ae' 's' 'b' 'e' 'ak' 'm' 'a' '...</td>\n",
       "      <td>45</td>\n",
       "      <td>object</td>\n",
       "    </tr>\n",
       "    <tr>\n",
       "      <th>X3</th>\n",
       "      <td>['f' 'a' 'c' 'e' 'd' 'g' 'b']</td>\n",
       "      <td>7</td>\n",
       "      <td>object</td>\n",
       "    </tr>\n",
       "    <tr>\n",
       "      <th>X4</th>\n",
       "      <td>['d' 'b' 'a' 'c']</td>\n",
       "      <td>4</td>\n",
       "      <td>object</td>\n",
       "    </tr>\n",
       "    <tr>\n",
       "      <th>X5</th>\n",
       "      <td>['t' 'b' 'a' 'z' 'y' 'x' 'h' 'g' 'f' 'j' 'i' '...</td>\n",
       "      <td>32</td>\n",
       "      <td>object</td>\n",
       "    </tr>\n",
       "    <tr>\n",
       "      <th>X6</th>\n",
       "      <td>['a' 'g' 'j' 'l' 'i' 'd' 'f' 'h' 'c' 'k' 'e' 'b']</td>\n",
       "      <td>12</td>\n",
       "      <td>object</td>\n",
       "    </tr>\n",
       "    <tr>\n",
       "      <th>X8</th>\n",
       "      <td>['w' 'y' 'j' 'n' 'm' 's' 'a' 'v' 'r' 'o' 't' '...</td>\n",
       "      <td>25</td>\n",
       "      <td>object</td>\n",
       "    </tr>\n",
       "  </tbody>\n",
       "</table>\n",
       "</div>"
      ],
      "text/plain": [
       "                                        Unique Values  Unique Value Count  \\\n",
       "X0  ['az' 't' 'w' 'y' 'x' 'f' 'ap' 'o' 'ay' 'al' '...                  49   \n",
       "X1  ['v' 'b' 'l' 's' 'aa' 'r' 'a' 'i' 'p' 'c' 'o' ...                  27   \n",
       "X2  ['n' 'ai' 'as' 'ae' 's' 'b' 'e' 'ak' 'm' 'a' '...                  45   \n",
       "X3                      ['f' 'a' 'c' 'e' 'd' 'g' 'b']                   7   \n",
       "X4                                  ['d' 'b' 'a' 'c']                   4   \n",
       "X5  ['t' 'b' 'a' 'z' 'y' 'x' 'h' 'g' 'f' 'j' 'i' '...                  32   \n",
       "X6  ['a' 'g' 'j' 'l' 'i' 'd' 'f' 'h' 'c' 'k' 'e' 'b']                  12   \n",
       "X8  ['w' 'y' 'j' 'n' 'm' 's' 'a' 'v' 'r' 'o' 't' '...                  25   \n",
       "\n",
       "   Data Type  \n",
       "X0    object  \n",
       "X1    object  \n",
       "X2    object  \n",
       "X3    object  \n",
       "X4    object  \n",
       "X5    object  \n",
       "X6    object  \n",
       "X8    object  "
      ]
     },
     "execution_count": 9,
     "metadata": {},
     "output_type": "execute_result"
    }
   ],
   "source": [
    "# checking unique classes for only object data type\n",
    "df_test_unique_values[df_test_unique_values['Data Type'] == 'object']"
   ]
  },
  {
   "cell_type": "markdown",
   "id": "hawaiian-namibia",
   "metadata": {},
   "source": [
    "### Identify the Output Variable"
   ]
  },
  {
   "cell_type": "code",
   "execution_count": 10,
   "id": "angry-century",
   "metadata": {},
   "outputs": [],
   "source": [
    "for column in df_train.columns:\n",
    "    if column not in df_test.columns:\n",
    "        y_train_column = column"
   ]
  },
  {
   "cell_type": "code",
   "execution_count": 11,
   "id": "surgical-worry",
   "metadata": {},
   "outputs": [],
   "source": [
    "X_train = df_train_rzv.drop('y',axis=1)\n",
    "y_train = df_train_rzv[y_train_column]"
   ]
  },
  {
   "cell_type": "code",
   "execution_count": 12,
   "id": "acute-blade",
   "metadata": {},
   "outputs": [
    {
     "name": "stdout",
     "output_type": "stream",
     "text": [
      "[dtype('int64') dtype('O')]\n"
     ]
    }
   ],
   "source": [
    "# checking for unique data types in X_train\n",
    "print(X_train.dtypes.unique())"
   ]
  },
  {
   "cell_type": "code",
   "execution_count": 13,
   "id": "described-specification",
   "metadata": {},
   "outputs": [
    {
     "name": "stdout",
     "output_type": "stream",
     "text": [
      "['X0', 'X1', 'X2', 'X3', 'X4', 'X5', 'X6', 'X8']\n"
     ]
    }
   ],
   "source": [
    "# extracting object data type column names \n",
    "X_train_object_columns = []\n",
    "for i in X_train.columns:\n",
    "    if X_train[i].dtype == 'object':\n",
    "        X_train_object_columns.append(i)\n",
    "print(X_train_object_columns)      "
   ]
  },
  {
   "cell_type": "markdown",
   "id": "charming-economics",
   "metadata": {},
   "source": [
    "### Checking for Null Values Sum"
   ]
  },
  {
   "cell_type": "code",
   "execution_count": 14,
   "id": "convertible-stretch",
   "metadata": {},
   "outputs": [
    {
     "data": {
      "text/plain": [
       "0"
      ]
     },
     "execution_count": 14,
     "metadata": {},
     "output_type": "execute_result"
    }
   ],
   "source": [
    "# total sum of null values\n",
    "X_train.isna().sum().sum()"
   ]
  },
  {
   "cell_type": "markdown",
   "id": "solved-bahrain",
   "metadata": {},
   "source": [
    "### Encoding Categorical Variables"
   ]
  },
  {
   "cell_type": "code",
   "execution_count": 15,
   "id": "grand-commissioner",
   "metadata": {},
   "outputs": [],
   "source": [
    "le = LabelEncoder()\n",
    "\n",
    "# combine train and test data before applying label encoder\n",
    "combined_df = pd.concat([X_train,df_test_rzv],axis = 0)\n",
    "\n",
    "for column_name in X_train_object_columns:\n",
    "    combined_df[column_name] = le.fit_transform(combined_df[column_name])\n",
    "    \n",
    "# split back into X_train and X_test\n",
    "X_train = combined_df.iloc[:X_train.shape[0],:]\n",
    "X_test = combined_df.iloc[X_train.shape[0]:,:]"
   ]
  },
  {
   "cell_type": "markdown",
   "id": "focal-subscription",
   "metadata": {},
   "source": [
    "### Standardizing Data"
   ]
  },
  {
   "cell_type": "code",
   "execution_count": 16,
   "id": "initial-cemetery",
   "metadata": {},
   "outputs": [],
   "source": [
    "sc = StandardScaler()\n",
    "X_train = sc.fit_transform(X_train)\n",
    "\n",
    "X_test = sc.transform(X_test)"
   ]
  },
  {
   "cell_type": "markdown",
   "id": "existing-hawaii",
   "metadata": {},
   "source": [
    "### Applying PCA (Dimensionality Reduction)"
   ]
  },
  {
   "cell_type": "code",
   "execution_count": 17,
   "id": "bridal-leave",
   "metadata": {},
   "outputs": [
    {
     "name": "stdout",
     "output_type": "stream",
     "text": [
      "0.9773469401524962\n"
     ]
    }
   ],
   "source": [
    "pca = PCA(n_components = 175)\n",
    "X_train = pca.fit_transform(X_train)\n",
    "X_test = pca.transform(X_test)\n",
    "print(pca.explained_variance_ratio_.sum())"
   ]
  },
  {
   "cell_type": "markdown",
   "id": "measured-gross",
   "metadata": {},
   "source": [
    "### xgboost Regressor Model"
   ]
  },
  {
   "cell_type": "code",
   "execution_count": 18,
   "id": "indoor-disposal",
   "metadata": {},
   "outputs": [],
   "source": [
    "# create xgboost estimator\n",
    "xgb = XGBRegressor(max_depth = 2)\n",
    "\n",
    "# fit xgboost training data to model\n",
    "xgb.fit(X_train,y_train)\n",
    "\n",
    "# predict xgboost testing data\n",
    "y_pred = xgb.predict(X_test)"
   ]
  }
 ],
 "metadata": {
  "kernelspec": {
   "display_name": "Python 3",
   "language": "python",
   "name": "python3"
  },
  "language_info": {
   "codemirror_mode": {
    "name": "ipython",
    "version": 3
   },
   "file_extension": ".py",
   "mimetype": "text/x-python",
   "name": "python",
   "nbconvert_exporter": "python",
   "pygments_lexer": "ipython3",
   "version": "3.7.1"
  }
 },
 "nbformat": 4,
 "nbformat_minor": 5
}
